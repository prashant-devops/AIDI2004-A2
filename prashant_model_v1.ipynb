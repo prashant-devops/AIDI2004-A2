{
 "cells": [
  {
   "attachments": {},
   "cell_type": "markdown",
   "metadata": {},
   "source": [
    "Model 1 - GradientBoostingClassifier"
   ]
  },
  {
   "cell_type": "code",
   "execution_count": 1,
   "metadata": {},
   "outputs": [],
   "source": [
    "import pandas as pd\n",
    "from sklearn.model_selection import train_test_split\n",
    "from sklearn.ensemble import GradientBoostingClassifier\n",
    "from sklearn.metrics import accuracy_score, precision_score, recall_score, f1_score"
   ]
  },
  {
   "cell_type": "code",
   "execution_count": 5,
   "metadata": {},
   "outputs": [
    {
     "name": "stdout",
     "output_type": "stream",
     "text": [
      "       Mean Radius  Mean Texture  Mean Perimeter    Mean Area  \\\n",
      "count   569.000000    569.000000      569.000000   569.000000   \n",
      "mean     14.127292     19.289649       91.969033   654.889104   \n",
      "std       3.524049      4.301036       24.298981   351.914129   \n",
      "min       6.981000      9.710000       43.790000   143.500000   \n",
      "25%      11.700000     16.170000       75.170000   420.300000   \n",
      "50%      13.370000     18.840000       86.240000   551.100000   \n",
      "75%      15.780000     21.800000      104.100000   782.700000   \n",
      "max      28.110000     39.280000      188.500000  2501.000000   \n",
      "\n",
      "       Mean Smoothness  Mean Compactness  Mean Concavity  Mean Concave Points  \\\n",
      "count       569.000000        569.000000      569.000000           569.000000   \n",
      "mean          0.096360          0.104341        0.088799             0.048919   \n",
      "std           0.014064          0.052813        0.079720             0.038803   \n",
      "min           0.052630          0.019380        0.000000             0.000000   \n",
      "25%           0.086370          0.064920        0.029560             0.020310   \n",
      "50%           0.095870          0.092630        0.061540             0.033500   \n",
      "75%           0.105300          0.130400        0.130700             0.074000   \n",
      "max           0.163400          0.345400        0.426800             0.201200   \n",
      "\n",
      "       Mean Symmetry  Mean Fractal Dimension  ...  Largest Radius  \\\n",
      "count     569.000000              569.000000  ...      569.000000   \n",
      "mean        0.181162                0.062798  ...       16.269190   \n",
      "std         0.027414                0.007060  ...        4.833242   \n",
      "min         0.106000                0.049960  ...        7.930000   \n",
      "25%         0.161900                0.057700  ...       13.010000   \n",
      "50%         0.179200                0.061540  ...       14.970000   \n",
      "75%         0.195700                0.066120  ...       18.790000   \n",
      "max         0.304000                0.097440  ...       36.040000   \n",
      "\n",
      "       Largest Texture  Largest Perimeter  Largest Area  Largest Smoothness  \\\n",
      "count       569.000000         569.000000    569.000000          569.000000   \n",
      "mean         25.677223         107.261213    880.583128            0.132369   \n",
      "std           6.146258          33.602542    569.356993            0.022832   \n",
      "min          12.020000          50.410000    185.200000            0.071170   \n",
      "25%          21.080000          84.110000    515.300000            0.116600   \n",
      "50%          25.410000          97.660000    686.500000            0.131300   \n",
      "75%          29.720000         125.400000   1084.000000            0.146000   \n",
      "max          49.540000         251.200000   4254.000000            0.222600   \n",
      "\n",
      "       Largest Compactness  Largest Concavity  Largest Concave Points  \\\n",
      "count           569.000000         569.000000              569.000000   \n",
      "mean              0.254265           0.272188                0.114606   \n",
      "std               0.157336           0.208624                0.065732   \n",
      "min               0.027290           0.000000                0.000000   \n",
      "25%               0.147200           0.114500                0.064930   \n",
      "50%               0.211900           0.226700                0.099930   \n",
      "75%               0.339100           0.382900                0.161400   \n",
      "max               1.058000           1.252000                0.291000   \n",
      "\n",
      "       Largest Symmetry  Largest Fractal Dimension  \n",
      "count        569.000000                 569.000000  \n",
      "mean           0.290076                   0.083946  \n",
      "std            0.061867                   0.018061  \n",
      "min            0.156500                   0.055040  \n",
      "25%            0.250400                   0.071460  \n",
      "50%            0.282200                   0.080040  \n",
      "75%            0.317900                   0.092080  \n",
      "max            0.663800                   0.207500  \n",
      "\n",
      "[8 rows x 30 columns]\n"
     ]
    }
   ],
   "source": [
    "# Step 1: Load and Preprocess the Data\n",
    "data_url = \"https://archive.ics.uci.edu/ml/machine-learning-databases/breast-cancer-wisconsin/wdbc.data\"\n",
    "column_names = [\"ID\", \"Diagnosis\", \"Mean Radius\", \"Mean Texture\", \"Mean Perimeter\", \"Mean Area\",\n",
    "                \"Mean Smoothness\", \"Mean Compactness\", \"Mean Concavity\", \"Mean Concave Points\",\n",
    "                \"Mean Symmetry\", \"Mean Fractal Dimension\", \"SE Radius\", \"SE Texture\", \"SE Perimeter\",\n",
    "                \"SE Area\", \"SE Smoothness\", \"SE Compactness\", \"SE Concavity\", \"SE Concave Points\",\n",
    "                \"SE Symmetry\", \"SE Fractal Dimension\", \"Largest Radius\", \"Largest Texture\",\n",
    "                \"Largest Perimeter\", \"Largest Area\", \"Largest Smoothness\", \"Largest Compactness\",\n",
    "                \"Largest Concavity\", \"Largest Concave Points\", \"Largest Symmetry\", \"Largest Fractal Dimension\"]\n",
    "\n",
    "df = pd.read_csv(data_url, header=None, names=column_names)\n",
    "\n",
    "# Drop unnecessary columns\n",
    "df = df.drop(\"ID\", axis=1)\n",
    "print(df.describe())\n",
    "\n",
    "# Split the dataset into features (X) and target (y)\n",
    "X = df.drop(\"Diagnosis\", axis=1)\n",
    "y = df[\"Diagnosis\"]"
   ]
  },
  {
   "cell_type": "code",
   "execution_count": 6,
   "metadata": {},
   "outputs": [],
   "source": [
    "# Step 2: Split the Data into Training and Testing Sets\n",
    "X_train, X_test, y_train, y_test = train_test_split(X, y, test_size=0.2, random_state=42)"
   ]
  },
  {
   "cell_type": "code",
   "execution_count": 7,
   "metadata": {},
   "outputs": [],
   "source": [
    "\n",
    "# Step 3: Define the Model\n",
    "model = GradientBoostingClassifier()\n"
   ]
  },
  {
   "cell_type": "code",
   "execution_count": 8,
   "metadata": {},
   "outputs": [
    {
     "data": {
      "text/plain": [
       "GradientBoostingClassifier()"
      ]
     },
     "execution_count": 8,
     "metadata": {},
     "output_type": "execute_result"
    }
   ],
   "source": [
    "# Step 4: Train the Model\n",
    "model.fit(X_train, y_train)"
   ]
  },
  {
   "cell_type": "code",
   "execution_count": 9,
   "metadata": {},
   "outputs": [
    {
     "name": "stdout",
     "output_type": "stream",
     "text": [
      "Accuracy: 0.956140350877193\n",
      "Precision: 0.9523809523809523\n",
      "Recall: 0.9302325581395349\n",
      "F1-Score: 0.9411764705882352\n"
     ]
    }
   ],
   "source": [
    "# Step 5: Evaluate the Model\n",
    "y_pred = model.predict(X_test)\n",
    "accuracy = accuracy_score(y_test, y_pred)\n",
    "precision = precision_score(y_test, y_pred, pos_label=\"M\")\n",
    "recall = recall_score(y_test, y_pred, pos_label=\"M\")\n",
    "f1 = f1_score(y_test, y_pred, pos_label=\"M\")\n",
    "\n",
    "print(\"Accuracy:\", accuracy)\n",
    "print(\"Precision:\", precision)\n",
    "print(\"Recall:\", recall)\n",
    "print(\"F1-Score:\", f1)"
   ]
  }
 ],
 "metadata": {
  "kernelspec": {
   "display_name": "base",
   "language": "python",
   "name": "python3"
  },
  "language_info": {
   "codemirror_mode": {
    "name": "ipython",
    "version": 3
   },
   "file_extension": ".py",
   "mimetype": "text/x-python",
   "name": "python",
   "nbconvert_exporter": "python",
   "pygments_lexer": "ipython3",
   "version": "3.9.13"
  },
  "orig_nbformat": 4
 },
 "nbformat": 4,
 "nbformat_minor": 2
}
